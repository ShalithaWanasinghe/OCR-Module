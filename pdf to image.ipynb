{
 "cells": [
  {
   "cell_type": "code",
   "execution_count": 2,
   "metadata": {},
   "outputs": [],
   "source": [
    "import os\n",
    "from tqdm import tqdm\n",
    "from pdf2image import convert_from_path"
   ]
  },
  {
   "cell_type": "markdown",
   "metadata": {},
   "source": [
    "Convert PDF into images"
   ]
  },
  {
   "cell_type": "code",
   "execution_count": 3,
   "metadata": {},
   "outputs": [],
   "source": [
    "def convert_pdfs_to_images(pdf_folder, image_folder):\n",
    "    os.makedirs(image_folder, exist_ok=True)\n",
    "    for pdf_file in tqdm(os.listdir(pdf_folder)):\n",
    "        if pdf_file.endswith('.pdf'):\n",
    "            pdf_path = os.path.join(pdf_folder, pdf_file)\n",
    "            images = convert_from_path(pdf_path)\n",
    "            for i, page in enumerate(images):\n",
    "                image_path = os.path.join(image_folder, f\"{os.path.splitext(pdf_file)[0]}_page_{i}.png\")\n",
    "                page.save(image_path, 'PNG')"
   ]
  },
  {
   "cell_type": "code",
   "execution_count": 4,
   "metadata": {},
   "outputs": [
    {
     "name": "stderr",
     "output_type": "stream",
     "text": [
      "<>:1: SyntaxWarning: invalid escape sequence '\\I'\n",
      "<>:2: SyntaxWarning: invalid escape sequence '\\I'\n",
      "<>:1: SyntaxWarning: invalid escape sequence '\\I'\n",
      "<>:2: SyntaxWarning: invalid escape sequence '\\I'\n",
      "C:\\Users\\shali\\AppData\\Local\\Temp\\ipykernel_16776\\956025353.py:1: SyntaxWarning: invalid escape sequence '\\I'\n",
      "  pdf_folder = 'F:\\Image to OCR module\\Vehicle Books PDF'\n",
      "C:\\Users\\shali\\AppData\\Local\\Temp\\ipykernel_16776\\956025353.py:2: SyntaxWarning: invalid escape sequence '\\I'\n",
      "  image_folder = 'F:\\Image to OCR module\\Vehicle Books Images'\n"
     ]
    }
   ],
   "source": [
    "pdf_folder = 'F:\\Image to OCR module\\Vehicle Books PDF'\n",
    "image_folder = 'F:\\Image to OCR module\\Vehicle Books Images'"
   ]
  },
  {
   "cell_type": "code",
   "execution_count": 5,
   "metadata": {},
   "outputs": [
    {
     "name": "stdout",
     "output_type": "stream",
     "text": [
      "Converting PDFs to images...\n"
     ]
    },
    {
     "name": "stderr",
     "output_type": "stream",
     "text": [
      "100%|██████████| 1000/1000 [18:48<00:00,  1.13s/it]\n"
     ]
    }
   ],
   "source": [
    "print(\"Converting PDFs to images...\")\n",
    "convert_pdfs_to_images(pdf_folder, image_folder)"
   ]
  },
  {
   "cell_type": "code",
   "execution_count": null,
   "metadata": {},
   "outputs": [],
   "source": []
  }
 ],
 "metadata": {
  "kernelspec": {
   "display_name": "Python 3",
   "language": "python",
   "name": "python3"
  },
  "language_info": {
   "codemirror_mode": {
    "name": "ipython",
    "version": 3
   },
   "file_extension": ".py",
   "mimetype": "text/x-python",
   "name": "python",
   "nbconvert_exporter": "python",
   "pygments_lexer": "ipython3",
   "version": "3.12.4"
  }
 },
 "nbformat": 4,
 "nbformat_minor": 2
}
